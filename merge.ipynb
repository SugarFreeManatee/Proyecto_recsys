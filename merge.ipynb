{
 "cells": [
  {
   "cell_type": "code",
   "execution_count": 1,
   "metadata": {},
   "outputs": [],
   "source": [
    "import pandas as pd"
   ]
  },
  {
   "cell_type": "markdown",
   "metadata": {},
   "source": [
    "## Usando features existentes\n",
    "\n",
    "Para ahorrar tiempo, en una primera instancia vamos a usar features ya extraídas desde la web api de Spotify que están disponibles en kaggle.\n",
    "\n",
    "En particular usaremos [Spotify Dataset](https://www.kaggle.com/datasets/vatsalmavani/spotify-dataset) (171k canciones) y [Spotify 1.2M+ Songs](https://www.kaggle.com/datasets/rodolfofigueroa/spotify-12m-songs) (1.2M canciones)."
   ]
  },
  {
   "cell_type": "code",
   "execution_count": 2,
   "metadata": {},
   "outputs": [],
   "source": [
    "df_playlists = pd.read_csv('data/1m.csv')\n",
    "df_audio_features = pd.read_csv('data/data.csv') #171k\n",
    "df_audio_features2 = pd.read_csv('data/tracks_features.csv') #1.2m\n",
    "\n",
    "df_playlists['track_uri'] = df_playlists['track_uri'].str.replace('spotify:track:', '')\n",
    "df_audio_features['track_uri'] = df_audio_features['id']\n",
    "df_audio_features2['track_uri'] = df_audio_features2['id']\n",
    "df_audio_features = pd.concat([df_audio_features, df_audio_features2], ignore_index=True)\n",
    "df_audio_features = df_audio_features.drop_duplicates(subset='track_uri')"
   ]
  },
  {
   "cell_type": "code",
   "execution_count": 3,
   "metadata": {},
   "outputs": [],
   "source": [
    "merged = pd.merge(df_playlists, df_audio_features, on='track_uri', how='inner')\n"
   ]
  },
  {
   "cell_type": "code",
   "execution_count": 6,
   "metadata": {},
   "outputs": [],
   "source": [
    "merged['playlist_id'] = merged['Unnamed: 0']\n",
    "merged.drop(['Unnamed: 0'], axis=1, inplace=True)"
   ]
  },
  {
   "cell_type": "code",
   "execution_count": 7,
   "metadata": {},
   "outputs": [],
   "source": [
    "merged.to_csv('data/merged.csv')"
   ]
  },
  {
   "cell_type": "code",
   "execution_count": 8,
   "metadata": {},
   "outputs": [
    {
     "data": {
      "text/plain": [
       "0.08324256992466048"
      ]
     },
     "execution_count": 8,
     "metadata": {},
     "output_type": "execute_result"
    }
   ],
   "source": [
    "len(merged)/len(df_playlists.track_uri) "
   ]
  },
  {
   "cell_type": "markdown",
   "metadata": {},
   "source": [
    "Usando features preexistentes, nos quedamos con un 8.32% de las canciones en el dataset original."
   ]
  },
  {
   "cell_type": "code",
   "execution_count": 44,
   "metadata": {},
   "outputs": [],
   "source": [
    "df = pd.read_csv('data/merged.csv')\n",
    "recomendations = pd.read_csv('data/1m.csv')\n",
    "recomendations['track_uri'] = recomendations['track_uri'].apply(lambda x: x.split(':')[2])\n",
    "filtered_recomendations = recomendations[recomendations['track_uri'].isin(df['track_uri'])]\n",
    "filtered_recomendations.to_csv('data/filtered_recomendations.csv')"
   ]
  },
  {
   "cell_type": "code",
   "execution_count": 43,
   "metadata": {},
   "outputs": [
    {
     "data": {
      "text/plain": [
       "1000"
      ]
     },
     "execution_count": 43,
     "metadata": {},
     "output_type": "execute_result"
    }
   ],
   "source": [
    "len(filtered_recomendations['Unnamed: 0'].unique())"
   ]
  },
  {
   "cell_type": "code",
   "execution_count": null,
   "metadata": {},
   "outputs": [],
   "source": []
  }
 ],
 "metadata": {
  "kernelspec": {
   "display_name": "recsys",
   "language": "python",
   "name": "python3"
  },
  "language_info": {
   "codemirror_mode": {
    "name": "ipython",
    "version": 3
   },
   "file_extension": ".py",
   "mimetype": "text/x-python",
   "name": "python",
   "nbconvert_exporter": "python",
   "pygments_lexer": "ipython3",
   "version": "3.10.12"
  }
 },
 "nbformat": 4,
 "nbformat_minor": 2
}
