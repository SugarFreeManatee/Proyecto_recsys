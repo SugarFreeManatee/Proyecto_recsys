{
 "cells": [
  {
   "cell_type": "markdown",
   "metadata": {},
   "source": [
    "### Preprocesamiento"
   ]
  },
  {
   "cell_type": "code",
   "execution_count": null,
   "metadata": {},
   "outputs": [],
   "source": [
    "import pandas as pd\n",
    "from tqdm import tqdm"
   ]
  },
  {
   "cell_type": "code",
   "execution_count": 3,
   "metadata": {},
   "outputs": [],
   "source": [
    "path = 'final_data'\n",
    "cols = ['danceability', 'energy', 'key', 'loudness', 'mode',\n",
    "'speechiness', 'acousticness', 'instrumentalness', 'liveness',\n",
    "'valence', 'tempo', 'type', 'id', 'uri', 'track_href', 'analysis_url',\n",
    "'duration_ms', 'time_signature']\n",
    "all_files = glob.glob(os.path.join(path, \"*.csv\"))\n",
    "df = pd.concat((pd.read_csv(f, names=cols) for f in all_files), ignore_index=True)\n"
   ]
  },
  {
   "cell_type": "code",
   "execution_count": 4,
   "metadata": {},
   "outputs": [],
   "source": [
    "df = df.drop_duplicates(subset='id').drop([\"type\", 'uri', 'track_href', 'analysis_url'], axis=1).dropna()"
   ]
  },
  {
   "cell_type": "code",
   "execution_count": 5,
   "metadata": {},
   "outputs": [],
   "source": [
    "df.to_csv('data/audio_features.csv')"
   ]
  },
  {
   "cell_type": "code",
   "execution_count": 5,
   "metadata": {},
   "outputs": [
    {
     "name": "stderr",
     "output_type": "stream",
     "text": [
      "/tmp/ipykernel_124678/848576910.py:1: DtypeWarning: Columns (1,2,3,4,5,6,7,8,9,10,11,13,14) have mixed types. Specify dtype option on import or set low_memory=False.\n",
      "  df = pd.read_csv('data/audio_features.csv')\n"
     ]
    }
   ],
   "source": [
    "df = pd.read_csv('data/audio_features.csv')\n",
    "df_playlists = pd.read_csv('data/playlist.tsv', sep='\\t')\n",
    "df_playlists['track_uris'] = df_playlists['track_uris'].apply(eval)\n"
   ]
  },
  {
   "cell_type": "code",
   "execution_count": 7,
   "metadata": {},
   "outputs": [],
   "source": [
    "all_tracks = []\n",
    "for i in df_playlists['track_uris']:\n",
    "    all_tracks.extend(i)\n",
    "valid_tracks_ = set(df['id'].unique())\n",
    "valid_tracks = {i: i in valid_tracks_ for i in all_tracks}"
   ]
  },
  {
   "cell_type": "code",
   "execution_count": 8,
   "metadata": {},
   "outputs": [],
   "source": [
    "def filter_playlists(playlist, valid_tracks):\n",
    "    playlist = [track for track in playlist if valid_tracks[track]]\n",
    "    return str(playlist)"
   ]
  },
  {
   "cell_type": "code",
   "execution_count": 9,
   "metadata": {},
   "outputs": [
    {
     "name": "stderr",
     "output_type": "stream",
     "text": [
      "100%|██████████| 1000000/1000000 [00:18<00:00, 53345.45it/s]\n"
     ]
    }
   ],
   "source": [
    "tqdm.pandas()\n",
    "df_playlists['track_uris'] = df_playlists['track_uris'].progress_apply(lambda x: filter_playlists(x, valid_tracks))\n",
    "df_playlists = df_playlists[df_playlists['track_uris'].apply(lambda x: len(eval(x)) > 1)]\n",
    "df_playlists.to_csv('data/filtered_playlists.csv', index=False, sep='\\t')"
   ]
  }
 ],
 "metadata": {
  "kernelspec": {
   "display_name": "recsys",
   "language": "python",
   "name": "python3"
  },
  "language_info": {
   "codemirror_mode": {
    "name": "ipython",
    "version": 3
   },
   "file_extension": ".py",
   "mimetype": "text/x-python",
   "name": "python",
   "nbconvert_exporter": "python",
   "pygments_lexer": "ipython3",
   "version": "3.10.12"
  }
 },
 "nbformat": 4,
 "nbformat_minor": 2
}
